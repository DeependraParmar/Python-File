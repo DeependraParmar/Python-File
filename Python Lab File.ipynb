{
  "nbformat": 4,
  "nbformat_minor": 0,
  "metadata": {
    "colab": {
      "provenance": [],
      "authorship_tag": "ABX9TyMcqwBZCyBttl+suJBd0i5w",
      "include_colab_link": true
    },
    "kernelspec": {
      "name": "python3",
      "display_name": "Python 3"
    },
    "language_info": {
      "name": "python"
    }
  },
  "cells": [
    {
      "cell_type": "markdown",
      "metadata": {
        "id": "view-in-github",
        "colab_type": "text"
      },
      "source": [
        "<a href=\"https://colab.research.google.com/github/DeependraParmar/Python-File/blob/master/Python%20Lab%20File.ipynb\" target=\"_parent\"><img src=\"https://colab.research.google.com/assets/colab-badge.svg\" alt=\"Open In Colab\"/></a>"
      ]
    },
    {
      "cell_type": "code",
      "execution_count": null,
      "metadata": {
        "colab": {
          "base_uri": "https://localhost:8080/"
        },
        "id": "ydFttCzJqkXp",
        "outputId": "4ddf3113-42eb-4060-a4de-fce0cf1b64b0"
      },
      "outputs": [
        {
          "output_type": "stream",
          "name": "stdout",
          "text": [
            "Code by Deependra Parmar\n",
            "\n",
            "Data Types Example:\n",
            "Integer: 42\n",
            "Float: 3.14\n",
            "String: Hello, World!\n",
            "Boolean: True\n",
            "List: [1, 2, 3, 4]\n",
            "Tuple: (5, 6, 7, 8)\n",
            "Dictionary: {'name': 'John', 'age': 25}\n",
            "Set: {1, 2, 3, 4, 5}\n"
          ]
        }
      ],
      "source": [
        "# This is a single-line comment\n",
        "print(\"Code by Deependra Parmar\")\n",
        "print()\n",
        "print(\"Data Types Example:\")\n",
        "# Integer\n",
        "integer_var = 42\n",
        "print(\"Integer:\", integer_var)\n",
        "# Float\n",
        "float_var = 3.14\n",
        "print(\"Float:\", float_var)\n",
        "# String\n",
        "string_var = \"Hello, World!\"\n",
        "print(\"String:\", string_var)\n",
        "# Boolean\n",
        "boolean_var = True\n",
        "print(\"Boolean:\", boolean_var)\n",
        "# List\n",
        "list_var = [1, 2, 3, 4]\n",
        "print(\"List:\", list_var)\n",
        "# Tuple\n",
        "tuple_var = (5, 6, 7, 8)\n",
        "print(\"Tuple:\", tuple_var)\n",
        "# Dictionary\n",
        "dict_var = {'name': 'John', 'age': 25}\n",
        "print(\"Dictionary:\", dict_var)\n",
        "\"\"\"\n",
        "This is a multiline comment.\n",
        "You can use triple-quotes for multiline comments.\n",
        "\"\"\"\n",
        "# Set\n",
        "set_var = {1, 2, 3, 4, 5}\n",
        "print(\"Set:\", set_var)\n"
      ]
    },
    {
      "cell_type": "code",
      "source": [
        "print(\"Code by Deependra Parmar\")\n",
        "print()\n",
        "num1 = float(input(\"Enter the first number: \"))\n",
        "num2 = float(input(\"Enter the second number: \"))\n",
        "num3 = float(input(\"Enter the third number: \"))\n",
        "if num1 >= num2 and num1 >= num3:\n",
        "    largest = num1\n",
        "elif num2 >= num1 and num2 >= num3:\n",
        "    largest = num2\n",
        "else:\n",
        "    largest = num3\n",
        "print(\"The largest number is:\", largest)\n"
      ],
      "metadata": {
        "colab": {
          "base_uri": "https://localhost:8080/"
        },
        "id": "XsGHUdgIq3v5",
        "outputId": "d5036575-d197-4a12-dc0e-2fffa2dc56bd"
      },
      "execution_count": null,
      "outputs": [
        {
          "output_type": "stream",
          "name": "stdout",
          "text": [
            "Code by Deependra Parmar\n",
            "\n",
            "Enter the first number: 10\n",
            "Enter the second number: 20\n",
            "Enter the third number: 30\n",
            "The largest number is: 30.0\n"
          ]
        }
      ]
    },
    {
      "cell_type": "code",
      "source": [
        "print(\"Code by Deependra Parmar\")\n",
        "print()\n",
        "num = int(input(\"Enter the number: \"))\n",
        "i=1\n",
        "while i <= 10:\n",
        "    print(f\"{num} * {i} = {num*i}\")\n",
        "    i = i+1\n"
      ],
      "metadata": {
        "colab": {
          "base_uri": "https://localhost:8080/"
        },
        "id": "qHLEVoaWrsr7",
        "outputId": "ae3dc58a-ad1f-46ae-bda1-9d9ae1fc0489"
      },
      "execution_count": null,
      "outputs": [
        {
          "output_type": "stream",
          "name": "stdout",
          "text": [
            "Code by Deependra Parmar\n",
            "\n",
            "Enter the number: 9\n",
            "9 * 1 = 9\n",
            "9 * 2 = 18\n",
            "9 * 3 = 27\n",
            "9 * 4 = 36\n",
            "9 * 5 = 45\n",
            "9 * 6 = 54\n",
            "9 * 7 = 63\n",
            "9 * 8 = 72\n",
            "9 * 9 = 81\n",
            "9 * 10 = 90\n"
          ]
        }
      ]
    },
    {
      "cell_type": "code",
      "source": [
        "print(\"Code by Deependra Parmar\")\n",
        "print()\n",
        "def is_prime(num):\n",
        "    if num < 2:\n",
        "        return False\n",
        "    for i in range(2, int(num**0.5) + 1):\n",
        "        if num % i == 0:\n",
        "            return False\n",
        "    return True\n",
        "print(\"Prime numbers between 1 and 100:\")\n",
        "for number in range(1, 101):\n",
        "    if is_prime(number):\n",
        "        print(number, end=\" \")\n"
      ],
      "metadata": {
        "colab": {
          "base_uri": "https://localhost:8080/"
        },
        "id": "kJHlqYdJs8yw",
        "outputId": "f8b330f1-87a2-4824-cb94-f89040982a09"
      },
      "execution_count": null,
      "outputs": [
        {
          "output_type": "stream",
          "name": "stdout",
          "text": [
            "Code by Deependra Parmar\n",
            "\n",
            "Prime numbers between 1 and 100:\n",
            "2 3 5 7 11 13 17 19 23 29 31 37 41 43 47 53 59 61 67 71 73 79 83 89 97 "
          ]
        }
      ]
    },
    {
      "cell_type": "code",
      "source": [
        "print(\"Code by Deependra Parmar\")\n",
        "print()\n",
        "string1 = \"Hello, \"\n",
        "string2 = \"World!\"\n",
        "result = string1 + string2\n",
        "print(\"Concatenated String:\", result)"
      ],
      "metadata": {
        "colab": {
          "base_uri": "https://localhost:8080/"
        },
        "id": "QYM4KCTvuAYv",
        "outputId": "de47f1e6-3f7a-4e3a-97ef-1aa439d1bbf7"
      },
      "execution_count": null,
      "outputs": [
        {
          "output_type": "stream",
          "name": "stdout",
          "text": [
            "Code by Deependra Parmar\n",
            "\n",
            "Concatenated String: Hello, World!\n"
          ]
        }
      ]
    },
    {
      "cell_type": "code",
      "source": [
        "print(\"Code by Deependra Parmar\")\n",
        "print()\n",
        "original_string = \"Hello, World!\"\n",
        "reversed_string = original_string[::-1]\n",
        "print(\"Original String:\", original_string)\n",
        "print(\"Reversed String:\", reversed_string)\n"
      ],
      "metadata": {
        "colab": {
          "base_uri": "https://localhost:8080/"
        },
        "id": "2a0-3Ic4uLMP",
        "outputId": "3c2e33e6-8e3f-427e-fa54-6569579f58c0"
      },
      "execution_count": null,
      "outputs": [
        {
          "output_type": "stream",
          "name": "stdout",
          "text": [
            "Code by Deependra Parmar\n",
            "\n",
            "Original String: Hello, World!\n",
            "Reversed String: !dlroW ,olleH\n"
          ]
        }
      ]
    },
    {
      "cell_type": "code",
      "source": [
        "print(\"Code by Deependra Parmar\")\n",
        "print()\n",
        "\n",
        "input_string = \"Python Programming\"\n",
        "print(\"Original String:\", input_string)\n",
        "\n",
        "length_of_string = len(input_string)\n",
        "print(\"Length of the String:\", length_of_string)\n",
        "\n",
        "uppercase_string = input_string.upper()\n",
        "print(\"Uppercase String:\", uppercase_string)\n",
        "\n",
        "lowercase_string = input_string.lower()\n",
        "print(\"Lowercase String:\", lowercase_string)\n",
        "\n",
        "count_e = input_string.count('e')\n",
        "print(\"Occurrences of 'e':\", count_e)\n",
        "\n",
        "index_of_program = input_string.find(\"Program\")\n",
        "print(\"Index of 'Program':\", index_of_program)\n",
        "\n",
        "replaced_string = input_string.replace(\"Python\", \"Java\")\n",
        "print(\"String after replacement:\", replaced_string)\n",
        "\n",
        "split_string = input_string.split(\" \")\n",
        "print(\"String after spliting:\", split_string)\n",
        "\n",
        "capitalize_string = input_string.capitalize()\n",
        "print(\"String after capitalizing:\", capitalize_string)"
      ],
      "metadata": {
        "colab": {
          "base_uri": "https://localhost:8080/"
        },
        "id": "KOVuF8OJujf-",
        "outputId": "c18873f7-a25b-4f23-c1eb-37e7f467fb75"
      },
      "execution_count": null,
      "outputs": [
        {
          "output_type": "stream",
          "name": "stdout",
          "text": [
            "Code by Deependra Parmar\n",
            "\n",
            "Original String: Python Programming\n",
            "Length of the String: 18\n",
            "Uppercase String: PYTHON PROGRAMMING\n",
            "Lowercase String: python programming\n",
            "Occurrences of 'e': 0\n",
            "Index of 'Program': 7\n",
            "String after replacement: Java Programming\n",
            "String after spliting: ['Python', 'Programming']\n",
            "String after capitalizing: Python programming\n"
          ]
        }
      ]
    },
    {
      "cell_type": "code",
      "source": [
        "print(\"Code by Deependra Parmar\")\n",
        "input_string = \"Hello, World!\"\n",
        "\n",
        "print(\"Traversing characters of the string:\")\n",
        "for char in input_string:\n",
        "    print(char, end=\" \")\n"
      ],
      "metadata": {
        "colab": {
          "base_uri": "https://localhost:8080/"
        },
        "id": "neYyDDvSu6yp",
        "outputId": "03dbf45d-fcda-4f8d-c19a-b68abb6765cd"
      },
      "execution_count": null,
      "outputs": [
        {
          "output_type": "stream",
          "name": "stdout",
          "text": [
            "Code by Deependra Parmar\n",
            "Traversing characters of the string:\n",
            "H e l l o ,   W o r l d ! "
          ]
        }
      ]
    },
    {
      "cell_type": "code",
      "source": [
        "print(\"Code by Deependra Parmar\")\n",
        "print()\n",
        "words = [\"apple\", \"banana\", \"cherry\", \"date\", \"elderberry\", \"fig\", \"grape\", \"honeydew\"]\n",
        "\n",
        "print(\"Abecedarian Series:\")\n",
        "for word in words:\n",
        "    print(word)"
      ],
      "metadata": {
        "colab": {
          "base_uri": "https://localhost:8080/"
        },
        "id": "b0MOy1UvvQvX",
        "outputId": "f95b1ac1-7383-4aa2-c10b-c4178d9f421e"
      },
      "execution_count": null,
      "outputs": [
        {
          "output_type": "stream",
          "name": "stdout",
          "text": [
            "Code by Deependra Parmar\n",
            "\n",
            "Abecedarian Series:\n",
            "apple\n",
            "banana\n",
            "cherry\n",
            "date\n",
            "elderberry\n",
            "fig\n",
            "grape\n",
            "honeydew\n"
          ]
        }
      ]
    },
    {
      "cell_type": "code",
      "source": [
        "print(\"Code by Deependra Parmar\")\n",
        "print()\n",
        "def is_substring_present(main_string, substring_to_check):\n",
        "    return substring_to_check in main_string\n",
        "\n",
        "main_string = input(\"Enter the main string: \")\n",
        "substring_to_check = input(\"Enter the substring to check: \")\n",
        "\n",
        "if is_substring_present(main_string, substring_to_check):\n",
        "    print(f\"'{substring_to_check}' is present in the string.\")\n",
        "else:\n",
        "    print(f\"'{substring_to_check}' is not present in the string.\")"
      ],
      "metadata": {
        "colab": {
          "base_uri": "https://localhost:8080/"
        },
        "id": "F3w1AiIwvrEq",
        "outputId": "8cc27ed5-795b-49f1-bc47-355bf85731a9"
      },
      "execution_count": null,
      "outputs": [
        {
          "output_type": "stream",
          "name": "stdout",
          "text": [
            "Code by Deependra Parmar\n",
            "\n",
            "Enter the main string: Deependra Parmar\n",
            "Enter the substring to check: mar\n",
            "'mar' is present in the string.\n"
          ]
        }
      ]
    },
    {
      "cell_type": "code",
      "source": [
        "print(\"Code by Deependra Parmar\")\n",
        "print()\n",
        "def left_side_pattern(chars):\n",
        "    for i in range(1, len(chars) + 1):\n",
        "        print(chars[:i])\n",
        "left_side_pattern(\"ABCD\")"
      ],
      "metadata": {
        "colab": {
          "base_uri": "https://localhost:8080/"
        },
        "id": "xvYPxwJ9wGKH",
        "outputId": "bbc1d035-6025-4970-919f-876e4dd70c24"
      },
      "execution_count": null,
      "outputs": [
        {
          "output_type": "stream",
          "name": "stdout",
          "text": [
            "Code by Deependra Parmar\n",
            "\n",
            "A\n",
            "AB\n",
            "ABC\n",
            "ABCD\n"
          ]
        }
      ]
    },
    {
      "cell_type": "code",
      "source": [
        "print(\"Code by Deependra Parmar\")\n",
        "print()\n",
        "mixed_list = [1, 'two', 3.0, True, [4, 5]]\n",
        "print(\"Mixed List:\", mixed_list)\n",
        "\n",
        "first_element = mixed_list[0]\n",
        "second_element = mixed_list[1]\n",
        "third_element = mixed_list[2]\n",
        "fourth_element = mixed_list[3]\n",
        "fifth_element = mixed_list[4]\n",
        "\n",
        "print(\"First Element:\", first_element)\n",
        "print(\"Second Element:\", second_element)\n",
        "print(\"Third Element:\", third_element)\n",
        "print(\"Fourth Element:\", fourth_element)\n",
        "print(\"Fifth Element:\", fifth_element)"
      ],
      "metadata": {
        "colab": {
          "base_uri": "https://localhost:8080/"
        },
        "id": "jj9NJXZYwlT4",
        "outputId": "cf654929-c354-4262-aa7b-e179f421caac"
      },
      "execution_count": null,
      "outputs": [
        {
          "output_type": "stream",
          "name": "stdout",
          "text": [
            "Code by Deependra Parmar\n",
            "\n",
            "Mixed List: [1, 'two', 3.0, True, [4, 5]]\n",
            "First Element: 1\n",
            "Second Element: two\n",
            "Third Element: 3.0\n",
            "Fourth Element: True\n",
            "Fifth Element: [4, 5]\n"
          ]
        }
      ]
    },
    {
      "cell_type": "code",
      "source": [
        "print(\"Code by Deependra Parmar\")\n",
        "print()\n",
        "max_inputs = 5\n",
        "user_list = []\n",
        "for _ in range(max_inputs):\n",
        "    user_input = input(\"Enter an element (or type 'done' to finish): \")\n",
        "    if user_input.lower() == 'done':\n",
        "        break\n",
        "    if eval(f'isinstance({user_input}, (int, float, str, list, tuple, dict))'):\n",
        "        user_list.append(eval(user_input))\n",
        "    else:\n",
        "        print(\"Error: Please enter a valid input (int, float, str, list, tuple, dict).\")\n",
        "print(\"User Input List:\", user_list)"
      ],
      "metadata": {
        "colab": {
          "base_uri": "https://localhost:8080/"
        },
        "id": "5i1qQM5Lw79Y",
        "outputId": "25d29c39-2781-497c-a879-52e878b7a130"
      },
      "execution_count": null,
      "outputs": [
        {
          "output_type": "stream",
          "name": "stdout",
          "text": [
            "Code by Deependra Parmar\n",
            "\n",
            "Enter an element (or type 'done' to finish): [1,2,3,4,5,6]\n",
            "Enter an element (or type 'done' to finish): [1,2,3,4,5,6]\n",
            "Enter an element (or type 'done' to finish): done\n",
            "User Input List: [[1, 2, 3, 4, 5, 6], [1, 2, 3, 4, 5, 6]]\n"
          ]
        }
      ]
    },
    {
      "cell_type": "code",
      "source": [
        "print(\"Code by Deependra Parmar\")\n",
        "print()\n",
        "my_list = [1, 2, 3]\n",
        "print(\"Existing list:\", my_list)\n",
        "for _ in range(5):\n",
        "    element = input(\"Enter an element to append to the list: \")\n",
        "    my_list.append(element)\n",
        "print(\"Final List:\", my_list)\n"
      ],
      "metadata": {
        "colab": {
          "base_uri": "https://localhost:8080/"
        },
        "id": "QqUwjOhzxSzn",
        "outputId": "3f6f10f9-89f4-443d-8987-8407169a9a0e"
      },
      "execution_count": null,
      "outputs": [
        {
          "output_type": "stream",
          "name": "stdout",
          "text": [
            "Code by Deependra Parmar\n",
            "\n",
            "Existing list: [1, 2, 3]\n",
            "Enter an element to append to the list: [4,5,6]\n",
            "Enter an element to append to the list: 4.5.6\n",
            "Enter an element to append to the list: hello\n",
            "Enter an element to append to the list: one\n",
            "Enter an element to append to the list: 20930\n",
            "Final List: [1, 2, 3, '[4,5,6]', '4.5.6', 'hello', 'one', '20930']\n"
          ]
        }
      ]
    },
    {
      "cell_type": "code",
      "source": [
        "print(\"Code by Deependra Parmar\")\n",
        "print()\n",
        "my_list = [5, 2, 8, 1, 3]\n",
        "print(\"List is:\", my_list)\n",
        "my_list.sort()\n",
        "print(\"Ascending Order:\", my_list)\n",
        "descending_order = sorted(my_list, reverse=True)\n",
        "print(\"Descending Order:\", descending_order)"
      ],
      "metadata": {
        "colab": {
          "base_uri": "https://localhost:8080/"
        },
        "id": "l3QqACIBx0v9",
        "outputId": "3bed10bc-5f3c-471c-b4c2-377e44b6f248"
      },
      "execution_count": null,
      "outputs": [
        {
          "output_type": "stream",
          "name": "stdout",
          "text": [
            "Code by Deependra Parmar\n",
            "\n",
            "List is: [5, 2, 8, 1, 3]\n",
            "Ascending Order: [1, 2, 3, 5, 8]\n",
            "Descending Order: [8, 5, 3, 2, 1]\n"
          ]
        }
      ]
    },
    {
      "cell_type": "code",
      "source": [
        "print(\"Code by Deependra Parmar\")\n",
        "print()\n",
        "my_list = [1, 2, 3, 2, 4, 2, 5]\n",
        "print(\"List is:\", my_list)\n",
        "element_to_count = 2\n",
        "occurrences = my_list.count(element_to_count)\n",
        "print(f\"The element {element_to_count} occurs {occurrences} times in the list.\")"
      ],
      "metadata": {
        "colab": {
          "base_uri": "https://localhost:8080/"
        },
        "id": "w20Bkt2fyNrn",
        "outputId": "d6839d43-9fb8-4612-8d87-c9502758c693"
      },
      "execution_count": null,
      "outputs": [
        {
          "output_type": "stream",
          "name": "stdout",
          "text": [
            "Code by Deependra Parmar\n",
            "\n",
            "List is: [1, 2, 3, 2, 4, 2, 5]\n",
            "The element 2 occurs 3 times in the list.\n"
          ]
        }
      ]
    },
    {
      "cell_type": "code",
      "source": [
        "print(\"Code by Deependra Parmar\")\n",
        "print()\n",
        "my_list = [10, 20, 30, 40, 50]\n",
        "print(\"List is:\", my_list)\n",
        "element_to_find = 30\n",
        "if element_to_find in my_list:\n",
        "    # Using the index() method to find the index of the element\n",
        "    index = my_list.index(element_to_find)\n",
        "    print(f\"The index of {element_to_find} in the list is {index}.\")\n",
        "else:\n",
        "    print(f\"{element_to_find} is not present in the list.\")"
      ],
      "metadata": {
        "colab": {
          "base_uri": "https://localhost:8080/"
        },
        "id": "wEvjCyB9yj8p",
        "outputId": "2bf758c0-3fbc-4a40-9c24-b99451cde88e"
      },
      "execution_count": null,
      "outputs": [
        {
          "output_type": "stream",
          "name": "stdout",
          "text": [
            "Code by Deependra Parmar\n",
            "\n",
            "List is: [10, 20, 30, 40, 50]\n",
            "The index of 30 in the list is 2.\n"
          ]
        }
      ]
    },
    {
      "cell_type": "code",
      "source": [
        "print(\"Code by Deependra Parmar\")\n",
        "print()\n",
        "my_list = [1, 2, 3, 4, 5]\n",
        "print(\"List is:\", my_list)\n",
        "if len(my_list) >= 2:\n",
        "    my_list[0], my_list[-1] = my_list[-1], my_list[0]\n",
        "print(\"List after swapping the first and last elements:\", my_list)"
      ],
      "metadata": {
        "colab": {
          "base_uri": "https://localhost:8080/"
        },
        "id": "mu_NkGeuy2yi",
        "outputId": "dc694f73-e608-42b8-b6d5-c3273c160619"
      },
      "execution_count": null,
      "outputs": [
        {
          "output_type": "stream",
          "name": "stdout",
          "text": [
            "Code by Deependra Parmar\n",
            "\n",
            "List is: [1, 2, 3, 4, 5]\n",
            "List after swapping the first and last elements: [5, 2, 3, 4, 1]\n"
          ]
        }
      ]
    },
    {
      "cell_type": "code",
      "source": [
        "print(\"Code by Deependra Parmar\")\n",
        "print()\n",
        "def swap_elements(my_list, position1, position2):\n",
        "    if 0 <= position1 < len(my_list) and 0 <= position2 < len(my_list):\n",
        "        my_list[position1], my_list[position2] = my_list[position2], my_list[position1]\n",
        "        print(f\"List after swapping positions {position1} and {position2}:\", my_list)\n",
        "    else:\n",
        "        print(\"Invalid positions.\")\n",
        "user_list = input(\"Enter elements of the list separated by spaces: \").split()\n",
        "print(\"List is:\", user_list)\n",
        "\n",
        "user_list = [int(element) for element in user_list]\n",
        "position_to_swap1 = int(input(\"Enter the first position to swap: \"))\n",
        "position_to_swap2 = int(input(\"Enter the second position to swap: \"))\n",
        "swap_elements(user_list, position_to_swap1, position_to_swap2)"
      ],
      "metadata": {
        "colab": {
          "base_uri": "https://localhost:8080/"
        },
        "id": "_kDhk-81zSXA",
        "outputId": "8f0014e7-8f4c-4c0e-809f-ebd42ba02850"
      },
      "execution_count": null,
      "outputs": [
        {
          "output_type": "stream",
          "name": "stdout",
          "text": [
            "Code by Deependra Parmar\n",
            "\n",
            "Enter elements of the list separated by spaces: 10 20 30 40 50 60\n",
            "List is: ['10', '20', '30', '40', '50', '60']\n",
            "Enter the first position to swap: 2\n",
            "Enter the second position to swap: 4\n",
            "List after swapping positions 2 and 4: [10, 20, 50, 40, 30, 60]\n"
          ]
        }
      ]
    },
    {
      "cell_type": "code",
      "source": [
        "print(\"Code by Deependra Parmar\")\n",
        "print()\n",
        "def check_and_separate(my_list, number):\n",
        "    if number in my_list:\n",
        "        print(f\"{number} is present in the list.\")\n",
        "        number_type = \"even\" if number % 2 == 0 else \"odd\"\n",
        "        print(f\"{number} is {number_type}.\")\n",
        "        even_numbers = [num for num in my_list if num % 2 == 0]\n",
        "        odd_numbers = [num for num in my_list if num % 2 != 0]\n",
        "        print(\"Even numbers in the list:\", even_numbers)\n",
        "        print(\"Odd numbers in the list:\", odd_numbers)\n",
        "    else:\n",
        "        print(f\"{number} is not present in the list.\")\n",
        "user_list = input(\"Enter elements of the list separated by spaces: \").split()\n",
        "user_list = [int(element) for element in user_list]\n",
        "number_to_check = int(input(\"Enter a number to check in the list: \"))\n",
        "check_and_separate(user_list, number_to_check)"
      ],
      "metadata": {
        "colab": {
          "base_uri": "https://localhost:8080/"
        },
        "id": "ILsytl8LzkjR",
        "outputId": "a52f56d5-b30e-44ff-98d2-3ec221f1846c"
      },
      "execution_count": null,
      "outputs": [
        {
          "output_type": "stream",
          "name": "stdout",
          "text": [
            "Code by Deependra Parmar\n",
            "\n",
            "Enter elements of the list separated by spaces: 10 20 30 40 50 60\n",
            "Enter a number to check in the list: 20\n",
            "20 is present in the list.\n",
            "20 is even.\n",
            "Even numbers in the list: [10, 20, 30, 40, 50, 60]\n",
            "Odd numbers in the list: []\n"
          ]
        }
      ]
    },
    {
      "cell_type": "code",
      "source": [
        "print(\"Code by Deependra Parmar\")\n",
        "print()\n",
        "def demonstrate_remove_and_pop(my_list):\n",
        "    print(\"Original List:\", my_list)\n",
        "    element_to_remove = int(input(\"Enter an element to remove using remove(): \"))\n",
        "    if element_to_remove in my_list:\n",
        "        my_list.remove(element_to_remove)\n",
        "        print(f\"List after removing {element_to_remove} using remove(): {my_list}\")\n",
        "    else:\n",
        "        print(f\"{element_to_remove} is not present in the list.\")\n",
        "    index_to_pop = int(input(\"Enter an index to pop using pop(): \"))\n",
        "    if 0 <= index_to_pop < len(my_list):\n",
        "        popped_element = my_list.pop(index_to_pop)\n",
        "        print(f\"List after popping element at index {index_to_pop} using pop(): {my_list}\")\n",
        "        print(f\"Popped element: {popped_element}\")\n",
        "    else:\n",
        "        print(f\"Index {index_to_pop} is out of range. Cannot pop from the list.\")\n",
        "user_list = input(\"Enter elements of the list separated by spaces: \").split()\n",
        "user_list = [int(element) for element in user_list]\n",
        "demonstrate_remove_and_pop(user_list)"
      ],
      "metadata": {
        "colab": {
          "base_uri": "https://localhost:8080/"
        },
        "id": "HYuFN4G60BdN",
        "outputId": "515cc516-3724-4a88-ffab-f3d98c64c2f2"
      },
      "execution_count": null,
      "outputs": [
        {
          "output_type": "stream",
          "name": "stdout",
          "text": [
            "Code by Deependra Parmar\n",
            "\n",
            "Enter elements of the list separated by spaces: 10 20 30 40 50 60\n",
            "Original List: [10, 20, 30, 40, 50, 60]\n",
            "Enter an element to remove using remove(): 30\n",
            "List after removing 30 using remove(): [10, 20, 40, 50, 60]\n",
            "Enter an index to pop using pop(): 3\n",
            "List after popping element at index 3 using pop(): [10, 20, 40, 60]\n",
            "Popped element: 50\n"
          ]
        }
      ]
    },
    {
      "cell_type": "code",
      "source": [
        "print(\"Code by Deependra Parmar\")\n",
        "print()\n",
        "\n",
        "def insert_element_at_position(my_list, element, position):\n",
        "    if 0 <= position <= len(my_list):\n",
        "        my_list.insert(position, element)\n",
        "        print(f\"List after inserting {element} at position {position}: {my_list}\")\n",
        "    else:\n",
        "        print(f\"Invalid position. Please enter a position between 0 and {len(my_list)}.\")\n",
        "\n",
        "user_list = input(\"Enter elements of the list separated by spaces: \").split()\n",
        "user_list = [int(element) for element in user_list]\n",
        "element_to_insert = int(input(\"Enter an element to insert: \"))\n",
        "position_to_insert = int(input(f\"Enter a position to insert {element_to_insert} at: \"))\n",
        "insert_element_at_position(user_list, element_to_insert, position_to_insert)"
      ],
      "metadata": {
        "colab": {
          "base_uri": "https://localhost:8080/"
        },
        "id": "mwsdQh_90YOY",
        "outputId": "9842db59-d9f4-42c9-d9f0-251140505f47"
      },
      "execution_count": null,
      "outputs": [
        {
          "output_type": "stream",
          "name": "stdout",
          "text": [
            "Code by Deependra Parmar\n",
            "\n",
            "Enter elements of the list separated by spaces: 10 20 30 40 50 60\n",
            "Enter an element to insert: 20\n",
            "Enter a position to insert 20 at: 3\n",
            "List after inserting 20 at position 3: [10, 20, 30, 20, 40, 50, 60]\n"
          ]
        }
      ]
    },
    {
      "cell_type": "code",
      "source": [
        "_______________________________________________________________________________________________________________________"
      ],
      "metadata": {
        "id": "glwSLXM71NJy"
      },
      "execution_count": null,
      "outputs": []
    },
    {
      "cell_type": "code",
      "source": [
        "print(\"Code by Deependra Parmar\")\n",
        "def count_occurrences(tup, item):\n",
        "    return tup.count(item)\n",
        "\n",
        "my_tuple = (10, 20, 30, 50, 50, 40, 50)\n",
        "item_to_count = 50\n",
        "result = count_occurrences(my_tuple, item_to_count)\n",
        "print(f\"Number of occurrences of {item_to_count} in tuple: {result}\")"
      ],
      "metadata": {
        "colab": {
          "base_uri": "https://localhost:8080/"
        },
        "id": "S2CribGUR-bN",
        "outputId": "686e6897-7c3c-4821-d8d0-efd619a79f18"
      },
      "execution_count": null,
      "outputs": [
        {
          "output_type": "stream",
          "name": "stdout",
          "text": [
            "Code by Deependra Parmar\n",
            "Number of occurrences of 50 in tuple: 3\n"
          ]
        }
      ]
    },
    {
      "cell_type": "code",
      "source": [
        "print(\"Code by Deependra Parmar\")\n",
        "def check_same_items(tup):\n",
        "    return all(x == tup[0] for x in tup)\n",
        "\n",
        "test_tuple1 = (10, 10, 10, 10)\n",
        "test_tuple2 = (10, 20, 30, 40)\n",
        "print(f\"All items in test_tuple1 are same: {check_same_items(test_tuple1)}\")\n",
        "print(f\"All items in test_tuple2 are same: {check_same_items(test_tuple2)}\")"
      ],
      "metadata": {
        "colab": {
          "base_uri": "https://localhost:8080/"
        },
        "id": "6QZksH_lVd2n",
        "outputId": "11a4ae9c-b98d-4499-9ee4-1cf4f59268f9"
      },
      "execution_count": null,
      "outputs": [
        {
          "output_type": "stream",
          "name": "stdout",
          "text": [
            "Code by Deependra Parmar\n",
            "All items in test_tuple1 are same: True\n",
            "All items in test_tuple2 are same: False\n"
          ]
        }
      ]
    },
    {
      "cell_type": "code",
      "source": [
        "print(\"Code by Deependra Parmar\")\n",
        "# Answer:\n",
        "mixed_tuple = (10, 3.14, [1, 2, 3], ('a', 'b', 'c'))\n",
        "print(\"Element present in the list of mixed_tuple:\", mixed_tuple[2])"
      ],
      "metadata": {
        "colab": {
          "base_uri": "https://localhost:8080/"
        },
        "id": "47RyKmt5Vzr1",
        "outputId": "fd5ffb5b-36d9-462a-c10e-846bc54bb58b"
      },
      "execution_count": null,
      "outputs": [
        {
          "output_type": "stream",
          "name": "stdout",
          "text": [
            "Code by Deependra Parmar\n",
            "Element present in the list of mixed_tuple: [1, 2, 3]\n"
          ]
        }
      ]
    },
    {
      "cell_type": "code",
      "source": [
        "print(\"Code by Deependra Parmar\")\n",
        "# Answer:\n",
        "cities_tuple = (\"Mumbai\", \"Delhi\", \"Kolkata\", \"Chennai\", \"Bangalore\", \"Hyderabad\", \"Pune\", \"Ahmedabad\", \"Jaipur\", \"Surat\")\n",
        "city_to_check = \"Pune\"\n",
        "if city_to_check in cities_tuple:\n",
        "    print(f\"{city_to_check} is present in the tuple.\")\n",
        "else:\n",
        "    print(f\"{city_to_check} is not present in the tuple.\")\n"
      ],
      "metadata": {
        "colab": {
          "base_uri": "https://localhost:8080/"
        },
        "id": "YzV3QHS2ZkPf",
        "outputId": "d1101ff4-beb2-46a1-b9ca-3d423b3478c1"
      },
      "execution_count": null,
      "outputs": [
        {
          "output_type": "stream",
          "name": "stdout",
          "text": [
            "Code by Deependra Parmar\n",
            "Pune is present in the tuple.\n"
          ]
        }
      ]
    },
    {
      "cell_type": "code",
      "source": [
        "print(\"Code by Deependra Parmar\")\n",
        "# Answer:\n",
        "def count_word_occurrences_in_tuple(word, tup):\n",
        "    return tup.count(word)\n",
        "\n",
        "my_tuple = (\"apple\", \"banana\", \"cherry\", \"apple\", \"orange\", \"apple\")\n",
        "word_to_count = \"apple\"\n",
        "result = count_word_occurrences_in_tuple(word_to_count, my_tuple)\n",
        "print(f\"Number of occurrences of '{word_to_count}' in tuple: {result}\")"
      ],
      "metadata": {
        "colab": {
          "base_uri": "https://localhost:8080/"
        },
        "id": "Ynv9wyRXZvLu",
        "outputId": "43d51122-4bad-4851-91a9-c242c4828917"
      },
      "execution_count": null,
      "outputs": [
        {
          "output_type": "stream",
          "name": "stdout",
          "text": [
            "Code by Deependra Parmar\n",
            "Number of occurrences of 'apple' in tuple: 3\n"
          ]
        }
      ]
    },
    {
      "cell_type": "code",
      "source": [
        "print(\"Code by Deependra Parmar\")\n",
        "# Answer:\n",
        "def find_word_index_in_tuple(word, tup):\n",
        "    return tup.index(word)\n",
        "\n",
        "my_tuple = (\"apple\", \"banana\", \"cherry\", \"orange\")\n",
        "word_to_find = \"cherry\"\n",
        "index = find_word_index_in_tuple(word_to_find, my_tuple)\n",
        "print(f\"Index of '{word_to_find}' in tuple: {index}\")"
      ],
      "metadata": {
        "colab": {
          "base_uri": "https://localhost:8080/"
        },
        "id": "HbalfaEiabEO",
        "outputId": "cd96a66a-2e30-49e7-8408-f36e6c3eb640"
      },
      "execution_count": null,
      "outputs": [
        {
          "output_type": "stream",
          "name": "stdout",
          "text": [
            "Code by Deependra Parmar\n",
            "Index of 'cherry' in tuple: 2\n"
          ]
        }
      ]
    },
    {
      "cell_type": "code",
      "source": [
        "print(\"Code by Deependra Parmar\")\n",
        "# Answer:\n",
        "roll_numbers = (101, 102, 103, 104)\n",
        "names = (\"Rahul\", \"Sonia\", \"Amit\", \"Priya\")\n",
        "cgpa_scores = (8.5, 9.0, 7.8, 8.2)\n",
        "sgpa_scores = (8.0, 8.5, 7.2, 7.8)\n",
        "\n",
        "for i in range(len(roll_numbers)):\n",
        "    print(f\"Roll No: {roll_numbers[i]}, Name: {names[i]}, CGPA: {cgpa_scores[i]}, SGPA: {sgpa_scores[i]}\")"
      ],
      "metadata": {
        "colab": {
          "base_uri": "https://localhost:8080/"
        },
        "id": "9hF8__rKadke",
        "outputId": "5df7a750-b80c-4e9c-e6e4-09af19cb3dca"
      },
      "execution_count": null,
      "outputs": [
        {
          "output_type": "stream",
          "name": "stdout",
          "text": [
            "Code by Deependra Parmar\n",
            "Roll No: 101, Name: Rahul, CGPA: 8.5, SGPA: 8.0\n",
            "Roll No: 102, Name: Sonia, CGPA: 9.0, SGPA: 8.5\n",
            "Roll No: 103, Name: Amit, CGPA: 7.8, SGPA: 7.2\n",
            "Roll No: 104, Name: Priya, CGPA: 8.2, SGPA: 7.8\n"
          ]
        }
      ]
    },
    {
      "cell_type": "code",
      "source": [
        "print(\"Code by Deependra Parmar\")\n",
        "# Answer:\n",
        "my_set = {1, 2, 3, 4, 5}\n",
        "print(\"Created set:\", my_set)"
      ],
      "metadata": {
        "colab": {
          "base_uri": "https://localhost:8080/"
        },
        "id": "n1jyG68GapA2",
        "outputId": "eabc3654-b77d-4393-9e6f-8762c04ae4a5"
      },
      "execution_count": null,
      "outputs": [
        {
          "output_type": "stream",
          "name": "stdout",
          "text": [
            "Code by Deependra Parmar\n",
            "Created set: {1, 2, 3, 4, 5}\n"
          ]
        }
      ]
    },
    {
      "cell_type": "code",
      "source": [
        "print(\"Code by Deependra Parmar\")\n",
        "# Answer:\n",
        "my_set = {10, 20, 30, 40, 50}\n",
        "print(\"Iterating over set:\")\n",
        "for item in my_set:\n",
        "    print(item, end=\" \")"
      ],
      "metadata": {
        "colab": {
          "base_uri": "https://localhost:8080/"
        },
        "id": "DdVialHya1at",
        "outputId": "b954f180-1c0f-4b81-f4b3-849c59539128"
      },
      "execution_count": null,
      "outputs": [
        {
          "output_type": "stream",
          "name": "stdout",
          "text": [
            "Code by Deependra Parmar\n",
            "Iterating over set:\n",
            "50 20 40 10 30 "
          ]
        }
      ]
    },
    {
      "cell_type": "code",
      "source": [
        "print(\"Code by Deependra Parmar\")\n",
        "\n",
        "my_set = {1, 2, 3, 4}\n",
        "print(\"Set before adding:\", my_set)\n",
        "\n",
        "my_set.add(5)\n",
        "print(\"Set after adding 5:\", my_set)\n",
        "\n",
        "my_set.update([6, 7, 8])\n",
        "print(\"Set after updating with [6, 7, 8]:\", my_set)\n"
      ],
      "metadata": {
        "colab": {
          "base_uri": "https://localhost:8080/"
        },
        "id": "CzQ1kTe2bAMt",
        "outputId": "f893b67b-4725-44ed-dd68-8dd62b309d27"
      },
      "execution_count": null,
      "outputs": [
        {
          "output_type": "stream",
          "name": "stdout",
          "text": [
            "Code by Deependra Parmar\n",
            "Set before adding: {1, 2, 3, 4}\n",
            "Set after adding 5: {1, 2, 3, 4, 5}\n",
            "Set after updating with [6, 7, 8]: {1, 2, 3, 4, 5, 6, 7, 8}\n"
          ]
        }
      ]
    },
    {
      "cell_type": "code",
      "source": [
        "print(\"Code by Deependra Parmar\")\n",
        "\n",
        "my_set = {10, 20, 30, 40, 50}\n",
        "print(\"Set before removal:\", my_set)\n",
        "\n",
        "my_set.remove(30)\n",
        "print(\"Set after removing 30:\", my_set)\n",
        "\n",
        "my_set.discard(40)\n",
        "print(\"Set after discarding 40:\", my_set)\n",
        "\n",
        "my_set.pop()\n",
        "print(\"Set after popping an arbitrary element:\", my_set)\n"
      ],
      "metadata": {
        "colab": {
          "base_uri": "https://localhost:8080/"
        },
        "id": "raZBfsM8eUfr",
        "outputId": "e592c317-8e6c-4141-8d28-ad5110abb89e"
      },
      "execution_count": null,
      "outputs": [
        {
          "output_type": "stream",
          "name": "stdout",
          "text": [
            "Code by Deependra Parmar\n",
            "Set before removal: {50, 20, 40, 10, 30}\n",
            "Set after removing 30: {50, 20, 40, 10}\n",
            "Set after discarding 40: {50, 20, 10}\n",
            "Set after popping an arbitrary element: {20, 10}\n"
          ]
        }
      ]
    },
    {
      "cell_type": "code",
      "source": [
        "print(\"Code by Deependra Parmar\")\n",
        "\n",
        "my_set = {10, 20, 30, 40, 50}\n",
        "print(\"Set before operation:\", my_set)\n",
        "\n",
        "item_to_remove = 30\n",
        "if item_to_remove in my_set:\n",
        "    my_set.remove(item_to_remove)\n",
        "\n",
        "print(\"Set after removing item if present:\", my_set)\n"
      ],
      "metadata": {
        "colab": {
          "base_uri": "https://localhost:8080/"
        },
        "id": "1EH_-p0Ih7hU",
        "outputId": "336f0a19-e07d-4f09-98fe-547ebb20f496"
      },
      "execution_count": null,
      "outputs": [
        {
          "output_type": "stream",
          "name": "stdout",
          "text": [
            "Code by Deependra Parmar\n",
            "Set before operation: {50, 20, 40, 10, 30}\n",
            "Set after removing item if present: {50, 20, 40, 10}\n"
          ]
        }
      ]
    },
    {
      "cell_type": "code",
      "source": [
        "print(\"Code by Deependra Parmar\")\n",
        "\n",
        "set1 = {1, 2, 3, 4, 5}\n",
        "set2 = {3, 4, 5, 6, 7}\n",
        "\n",
        "intersection_set = set1 & set2\n",
        "print(\"Intersection of set1 and set2:\", intersection_set)\n"
      ],
      "metadata": {
        "colab": {
          "base_uri": "https://localhost:8080/"
        },
        "id": "U3nRIGN4h9R8",
        "outputId": "535d64f1-3f44-48f5-9154-b46ad575374c"
      },
      "execution_count": null,
      "outputs": [
        {
          "output_type": "stream",
          "name": "stdout",
          "text": [
            "Code by Deependra Parmar\n",
            "Intersection of set1 and set2: {3, 4, 5}\n"
          ]
        }
      ]
    },
    {
      "cell_type": "code",
      "source": [
        "print(\"Code by Deependra Parmar\")\n",
        "\n",
        "set1 = {1, 2, 3, 4, 5}\n",
        "set2 = {3, 4, 5, 6, 7}\n",
        "\n",
        "union_set = set1 | set2\n",
        "print(\"Union of set1 and set2:\", union_set)\n"
      ],
      "metadata": {
        "colab": {
          "base_uri": "https://localhost:8080/"
        },
        "id": "9cT-ropGh_QM",
        "outputId": "34a12c6c-78f8-41ee-fc29-0771b391e3b7"
      },
      "execution_count": null,
      "outputs": [
        {
          "output_type": "stream",
          "name": "stdout",
          "text": [
            "Code by Deependra Parmar\n",
            "Union of set1 and set2: {1, 2, 3, 4, 5, 6, 7}\n"
          ]
        }
      ]
    },
    {
      "cell_type": "code",
      "source": [
        "print(\"Code by Deependra Parmar\")\n",
        "\n",
        "set1 = {1, 2, 3, 4, 5}\n",
        "set2 = {3, 4, 5, 6, 7}\n",
        "\n",
        "difference_set = set1 - set2\n",
        "print(\"Set difference (set1 - set2):\", difference_set)\n"
      ],
      "metadata": {
        "colab": {
          "base_uri": "https://localhost:8080/"
        },
        "id": "RLeSCpU7iBE0",
        "outputId": "36f27389-452c-480a-ccff-822772a42ca5"
      },
      "execution_count": null,
      "outputs": [
        {
          "output_type": "stream",
          "name": "stdout",
          "text": [
            "Code by Deependra Parmar\n",
            "Set difference (set1 - set2): {1, 2}\n"
          ]
        }
      ]
    },
    {
      "cell_type": "code",
      "source": [
        "print(\"Code by Deependra Parmar\")\n",
        "\n",
        "set1 = {1, 2, 3, 4, 5}\n",
        "set2 = {3, 4, 5, 6, 7}\n",
        "\n",
        "symmetric_difference_set = set1 ^ set2\n",
        "print(\"Symmetric difference of set1 and set2:\", symmetric_difference_set)\n"
      ],
      "metadata": {
        "colab": {
          "base_uri": "https://localhost:8080/"
        },
        "id": "GuRCgYXviCir",
        "outputId": "d9384e2a-f1d9-4bb9-ee53-2905bace6e6b"
      },
      "execution_count": null,
      "outputs": [
        {
          "output_type": "stream",
          "name": "stdout",
          "text": [
            "Code by Deependra Parmar\n",
            "Symmetric difference of set1 and set2: {1, 2, 6, 7}\n"
          ]
        }
      ]
    },
    {
      "cell_type": "code",
      "source": [
        "print(\"Code by Deependra Parmar\")\n",
        "\n",
        "set1 = {1, 2, 3}\n",
        "set2 = {1, 2, 3, 4, 5}\n",
        "\n",
        "print(\"Is set1 a subset of set2?\", set1.issubset(set2))\n"
      ],
      "metadata": {
        "colab": {
          "base_uri": "https://localhost:8080/"
        },
        "id": "YUdMe_e0iEH0",
        "outputId": "424ecfbc-733c-466e-ecbd-aca5972357aa"
      },
      "execution_count": null,
      "outputs": [
        {
          "output_type": "stream",
          "name": "stdout",
          "text": [
            "Code by Deependra Parmar\n",
            "Is set1 a subset of set2? True\n"
          ]
        }
      ]
    },
    {
      "cell_type": "code",
      "source": [
        "print(\"Code by Deependra Parmar\")\n",
        "\n",
        "my_set = {10, 20, 30, 40, 50}\n",
        "print(\"Set before clearing:\", my_set)\n",
        "\n",
        "my_set.clear()\n",
        "print(\"Set after clearing:\", my_set)\n"
      ],
      "metadata": {
        "colab": {
          "base_uri": "https://localhost:8080/"
        },
        "id": "Etn8EVFniFpL",
        "outputId": "de9dd927-00d6-4702-ff1a-ce0ba6cb1074"
      },
      "execution_count": null,
      "outputs": [
        {
          "output_type": "stream",
          "name": "stdout",
          "text": [
            "Code by Deependra Parmar\n",
            "Set before clearing: {50, 20, 40, 10, 30}\n",
            "Set after clearing: set()\n"
          ]
        }
      ]
    },
    {
      "cell_type": "code",
      "source": [
        "print(\"Code by Deependra Parmar\")\n",
        "\n",
        "my_set = {10, 20, 30, 40, 50}\n",
        "print(\"Maximum value in set:\", max(my_set))\n",
        "print(\"Minimum value in set:\", min(my_set))\n"
      ],
      "metadata": {
        "colab": {
          "base_uri": "https://localhost:8080/"
        },
        "id": "P06oXIGriHts",
        "outputId": "5402806d-dc75-4e89-dcf5-44f240e47271"
      },
      "execution_count": null,
      "outputs": [
        {
          "output_type": "stream",
          "name": "stdout",
          "text": [
            "Code by Deependra Parmar\n",
            "Maximum value in set: 50\n",
            "Minimum value in set: 10\n"
          ]
        }
      ]
    },
    {
      "cell_type": "code",
      "source": [
        "print(\"Code by Deependra Parmar\")\n",
        "\n",
        "my_set = {10, 20, 30, 40, 50}\n",
        "print(\"Length of the set:\", len(my_set))\n"
      ],
      "metadata": {
        "colab": {
          "base_uri": "https://localhost:8080/"
        },
        "id": "il-2IM9xiJ9c",
        "outputId": "bc439546-4cdc-4470-9f27-a56fbbab0a99"
      },
      "execution_count": null,
      "outputs": [
        {
          "output_type": "stream",
          "name": "stdout",
          "text": [
            "Code by Deependra Parmar\n",
            "Length of the set: 5\n"
          ]
        }
      ]
    },
    {
      "cell_type": "code",
      "source": [
        "print(\"Code by Deependra Parmar\")\n",
        "\n",
        "my_set = {10, 20, 30, 40, 50}\n",
        "value_to_check = 30\n",
        "\n",
        "if value_to_check in my_set:\n",
        "    print(f\"{value_to_check} is present in the set.\")\n",
        "else:\n",
        "    print(f\"{value_to_check} is not present in the set.\")\n"
      ],
      "metadata": {
        "colab": {
          "base_uri": "https://localhost:8080/"
        },
        "id": "beCOtFhRi1SU",
        "outputId": "cdc6db86-7441-4bf8-e324-54b953502ee1"
      },
      "execution_count": null,
      "outputs": [
        {
          "output_type": "stream",
          "name": "stdout",
          "text": [
            "Code by Deependra Parmar\n",
            "30 is present in the set.\n"
          ]
        }
      ]
    },
    {
      "cell_type": "code",
      "source": [
        "print(\"Code by Deependra Parmar\")\n",
        "\n",
        "set1 = {1, 2, 3}\n",
        "set2 = {4, 5, 6}\n",
        "\n",
        "if set1.isdisjoint(set2):\n",
        "    print(\"Sets have no common elements.\")\n",
        "else:\n",
        "    print(\"Sets have common elements.\")\n"
      ],
      "metadata": {
        "colab": {
          "base_uri": "https://localhost:8080/"
        },
        "id": "jTxtBRosi3N8",
        "outputId": "cb5a9a6b-9cd1-4508-f71e-f1a8b2e387b4"
      },
      "execution_count": null,
      "outputs": [
        {
          "output_type": "stream",
          "name": "stdout",
          "text": [
            "Code by Deependra Parmar\n",
            "Sets have no common elements.\n"
          ]
        }
      ]
    },
    {
      "cell_type": "code",
      "source": [
        "print(\"Code by Deependra Parmar\")\n",
        "\n",
        "student_info = {\n",
        "    101: {\"name\": \"Rahul\", \"CGPA\": 8.5, \"SGPA\": 8.0},\n",
        "    102: {\"name\": \"Sonia\", \"CGPA\": 9.0, \"SGPA\": 8.5},\n",
        "    103: {\"name\": \"Amit\", \"CGPA\": 7.8, \"SGPA\": 7.2}\n",
        "}\n",
        "\n",
        "roll_number = 102\n",
        "print(\"Student information for Roll No\", roll_number, \":\", student_info.get(roll_number))\n"
      ],
      "metadata": {
        "colab": {
          "base_uri": "https://localhost:8080/"
        },
        "id": "IMcITGzFi6Bk",
        "outputId": "9a58ac67-dd1e-4f8b-a785-67507d81c72d"
      },
      "execution_count": null,
      "outputs": [
        {
          "output_type": "stream",
          "name": "stdout",
          "text": [
            "Code by Deependra Parmar\n",
            "Student information for Roll No 102 : {'name': 'Sonia', 'CGPA': 9.0, 'SGPA': 8.5}\n"
          ]
        }
      ]
    },
    {
      "cell_type": "code",
      "source": [
        "print(\"Code by Deependra Parmar\")\n",
        "\n",
        "student_info = {\n",
        "    101: {\"name\": \"Rahul\", \"CGPA\": 8.5, \"SGPA\": 8.0},\n",
        "    102: {\"name\": \"Sonia\", \"CGPA\": 9.0, \"SGPA\": 8.5},\n",
        "    103: {\"name\": \"Amit\", \"CGPA\": 7.8, \"SGPA\": 7.2}\n",
        "}\n",
        "\n",
        "roll_number_to_delete = 103\n",
        "if roll_number_to_delete in student_info:\n",
        "    del student_info[roll_number_to_delete]\n",
        "    print(f\"Deleted student with Roll No {roll_number_to_delete} from the dictionary.\")\n",
        "else:\n",
        "    print(f\"Roll No {roll_number_to_delete} not found in the dictionary.\")\n"
      ],
      "metadata": {
        "colab": {
          "base_uri": "https://localhost:8080/"
        },
        "id": "DJpJ97Mzi8fQ",
        "outputId": "79121b53-1aa9-4e61-9ff3-b144cfd31159"
      },
      "execution_count": null,
      "outputs": [
        {
          "output_type": "stream",
          "name": "stdout",
          "text": [
            "Code by Deependra Parmar\n",
            "Deleted student with Roll No 103 from the dictionary.\n"
          ]
        }
      ]
    },
    {
      "cell_type": "code",
      "source": [
        "print(\"Code by Deependra Parmar\")\n",
        "\n",
        "student_info = {\n",
        "    101: {\"name\": \"Rahul\", \"CGPA\": 8.5, \"SGPA\": 8.0},\n",
        "    102: {\"name\": \"Sonia\", \"CGPA\": 9.0, \"SGPA\": 8.5},\n",
        "    103: {\"name\": \"Amit\", \"CGPA\": 7.8, \"SGPA\": 7.2}\n",
        "}\n",
        "\n",
        "# Adding new student or updating existing student info\n",
        "roll_number = 104\n",
        "student_info[roll_number] = {\"name\": \"Priya\", \"CGPA\": 8.2, \"SGPA\": 7.8}\n",
        "print(\"Updated student information:\")\n",
        "print(student_info)\n"
      ],
      "metadata": {
        "colab": {
          "base_uri": "https://localhost:8080/"
        },
        "id": "xqkZtdXLi96k",
        "outputId": "ef4c7533-c21d-4e5a-c302-4b143d366852"
      },
      "execution_count": null,
      "outputs": [
        {
          "output_type": "stream",
          "name": "stdout",
          "text": [
            "Code by Deependra Parmar\n",
            "Updated student information:\n",
            "{101: {'name': 'Rahul', 'CGPA': 8.5, 'SGPA': 8.0}, 102: {'name': 'Sonia', 'CGPA': 9.0, 'SGPA': 8.5}, 103: {'name': 'Amit', 'CGPA': 7.8, 'SGPA': 7.2}, 104: {'name': 'Priya', 'CGPA': 8.2, 'SGPA': 7.8}}\n"
          ]
        }
      ]
    },
    {
      "cell_type": "code",
      "source": [
        "print(\"Code by Deependra Parmar\")\n",
        "\n",
        "dic1 = {1: 10, 2: 20}\n",
        "dic2 = {3: 30, 4: 40}\n",
        "\n",
        "concatenated_dict = {**dic1, **dic2}\n",
        "print(\"Concatenated Dictionary:\", concatenated_dict)\n"
      ],
      "metadata": {
        "colab": {
          "base_uri": "https://localhost:8080/"
        },
        "id": "XTtGNw7ii_3U",
        "outputId": "65d84dec-bfe7-4a68-922c-03d6a281de64"
      },
      "execution_count": null,
      "outputs": [
        {
          "output_type": "stream",
          "name": "stdout",
          "text": [
            "Code by Deependra Parmar\n",
            "Concatenated Dictionary: {1: 10, 2: 20, 3: 30, 4: 40}\n"
          ]
        }
      ]
    },
    {
      "cell_type": "code",
      "source": [
        "print(\"Code by Deependra Parmar\")\n",
        "\n",
        "student_info = {\n",
        "    101: {\"name\": \"Rahul\", \"CGPA\": 8.5, \"SGPA\": 8.0},\n",
        "    102: {\"name\": \"Sonia\", \"CGPA\": 9.0, \"SGPA\": 8.5},\n",
        "    103: {\"name\": \"Amit\", \"CGPA\": 7.8, \"SGPA\": 7.2}\n",
        "}\n",
        "\n",
        "roll_number_to_check = 102\n",
        "if roll_number_to_check in student_info:\n",
        "    print(f\"Roll No {roll_number_to_check} exists in the dictionary.\")\n",
        "else:\n",
        "    print(f\"Roll No {roll_number_to_check} does not exist in the dictionary.\")\n"
      ],
      "metadata": {
        "colab": {
          "base_uri": "https://localhost:8080/"
        },
        "id": "1k-WDPsBjDT0",
        "outputId": "85783cfc-df67-4acf-8204-2c3620a4c457"
      },
      "execution_count": null,
      "outputs": [
        {
          "output_type": "stream",
          "name": "stdout",
          "text": [
            "Code by Deependra Parmar\n",
            "Roll No 102 exists in the dictionary.\n"
          ]
        }
      ]
    },
    {
      "cell_type": "code",
      "source": [
        "print(\"Code by Deependra Parmar\")\n",
        "\n",
        "student_info = {\n",
        "    101: {\"name\": \"Rahul\", \"CGPA\": 8.5, \"SGPA\": 8.0},\n",
        "    102: {\"name\": \"Sonia\", \"CGPA\": 9.0, \"SGPA\": 8.5},\n",
        "    103: {\"name\": \"Amit\", \"CGPA\": 7.8, \"SGPA\": 7.2}\n",
        "}\n",
        "\n",
        "print(\"Iterating over dictionary:\")\n",
        "for roll_number, info in student_info.items():\n",
        "    print(f\"Roll No: {roll_number}, Name: {info['name']}, CGPA: {info['CGPA']}, SGPA: {info['SGPA']}\")\n"
      ],
      "metadata": {
        "colab": {
          "base_uri": "https://localhost:8080/"
        },
        "id": "O__-BURRjFcc",
        "outputId": "ae83047b-321f-413f-a3b6-ef09e341aed7"
      },
      "execution_count": null,
      "outputs": [
        {
          "output_type": "stream",
          "name": "stdout",
          "text": [
            "Code by Deependra Parmar\n",
            "Iterating over dictionary:\n",
            "Roll No: 101, Name: Rahul, CGPA: 8.5, SGPA: 8.0\n",
            "Roll No: 102, Name: Sonia, CGPA: 9.0, SGPA: 8.5\n",
            "Roll No: 103, Name: Amit, CGPA: 7.8, SGPA: 7.2\n"
          ]
        }
      ]
    },
    {
      "cell_type": "code",
      "source": [
        "print(\"Code by Deependra Parmar\")\n",
        "\n",
        "n = 5\n",
        "square_dict = {x: x*x for x in range(1, n+1)}\n",
        "print(\"Dictionary with number and its square:\")\n",
        "print(square_dict)\n"
      ],
      "metadata": {
        "colab": {
          "base_uri": "https://localhost:8080/"
        },
        "id": "2Hg7_JpCjHws",
        "outputId": "8d0bcd36-7601-4e91-d3b2-42dc250ffae8"
      },
      "execution_count": null,
      "outputs": [
        {
          "output_type": "stream",
          "name": "stdout",
          "text": [
            "Code by Deependra Parmar\n",
            "Dictionary with number and its square:\n",
            "{1: 1, 2: 4, 3: 9, 4: 16, 5: 25}\n"
          ]
        }
      ]
    },
    {
      "cell_type": "code",
      "source": [
        "print(\"Code by Deependra Parmar\")\n",
        "\n",
        "def sum_of_variables(a, b):\n",
        "    return a + b\n",
        "\n",
        "result = sum_of_variables(10, 20)\n",
        "print(\"Sum of variables:\", result)\n"
      ],
      "metadata": {
        "colab": {
          "base_uri": "https://localhost:8080/"
        },
        "id": "h10ObT5GjJOU",
        "outputId": "d2d23ef1-57bd-4d2a-c3c0-e6341f2a922a"
      },
      "execution_count": null,
      "outputs": [
        {
          "output_type": "stream",
          "name": "stdout",
          "text": [
            "Code by Deependra Parmar\n",
            "Sum of variables: 30\n"
          ]
        }
      ]
    },
    {
      "cell_type": "code",
      "source": [
        "print(\"Code by Deependra Parmar\")\n",
        "\n",
        "def greet(name, greeting=\"Hello\"):\n",
        "    return f\"{greeting}, {name}!\"\n",
        "\n",
        "print(greet(\"Alice\"))\n",
        "print(greet(\"Bob\", \"Hi\"))\n"
      ],
      "metadata": {
        "colab": {
          "base_uri": "https://localhost:8080/"
        },
        "id": "FDM5FStnjOsT",
        "outputId": "8d377f4a-60f1-4f4d-cafb-4d849dbfc5aa"
      },
      "execution_count": null,
      "outputs": [
        {
          "output_type": "stream",
          "name": "stdout",
          "text": [
            "Code by Deependra Parmar\n",
            "Hello, Alice!\n",
            "Hi, Bob!\n"
          ]
        }
      ]
    },
    {
      "cell_type": "code",
      "source": [
        "print(\"Code by Deependra Parmar\")\n",
        "\n",
        "def max_of_three(a, b, c):\n",
        "    return max(a, b, c)\n",
        "\n",
        "result = max_of_three(10, 20, 30)\n",
        "print(\"Maximum of three numbers:\", result)"
      ],
      "metadata": {
        "colab": {
          "base_uri": "https://localhost:8080/"
        },
        "id": "ZGf-VOvmjUf0",
        "outputId": "d139f7ac-99b8-477d-e635-71b585f98fc3"
      },
      "execution_count": null,
      "outputs": [
        {
          "output_type": "stream",
          "name": "stdout",
          "text": [
            "Code by Deependra Parmar\n",
            "Maximum of three numbers: 30\n"
          ]
        }
      ]
    },
    {
      "cell_type": "code",
      "source": [
        "print(\"Code by Deependra Parmar\")\n",
        "\n",
        "def multiply(*args):\n",
        "    result = 1\n",
        "    for num in args:\n",
        "        result *= num\n",
        "    return result\n",
        "\n",
        "result = multiply(2, 3, 4)\n",
        "print(\"Multiplication result:\", result)\n"
      ],
      "metadata": {
        "colab": {
          "base_uri": "https://localhost:8080/"
        },
        "id": "NNWgWJUXjXIT",
        "outputId": "5e32189a-f6c3-4fb6-dfd9-a604c94be34a"
      },
      "execution_count": null,
      "outputs": [
        {
          "output_type": "stream",
          "name": "stdout",
          "text": [
            "Code by Deependra Parmar\n",
            "Multiplication result: 24\n"
          ]
        }
      ]
    },
    {
      "cell_type": "code",
      "source": [
        "print(\"Code by Deependra Parmar\")\n",
        "\n",
        "def reverse_string(s):\n",
        "    return s[::-1]\n",
        "\n",
        "result = reverse_string(\"hello\")\n",
        "print(\"Reversed string:\", result)"
      ],
      "metadata": {
        "colab": {
          "base_uri": "https://localhost:8080/"
        },
        "id": "B_0L1TjbjZrU",
        "outputId": "8298cd89-3de5-43cc-9cb5-6bb7cb148382"
      },
      "execution_count": null,
      "outputs": [
        {
          "output_type": "stream",
          "name": "stdout",
          "text": [
            "Code by Deependra Parmar\n",
            "Reversed string: olleh\n"
          ]
        }
      ]
    },
    {
      "cell_type": "code",
      "source": [
        "print(\"Code by Deependra Parmar\")\n",
        "\n",
        "def greet(name):\n",
        "    \"\"\"This function greets the person with the given name.\"\"\"\n",
        "    return f\"Hello, {name}!\"\n",
        "\n",
        "print(\"Function Docstring:\", greet.__doc__)"
      ],
      "metadata": {
        "colab": {
          "base_uri": "https://localhost:8080/"
        },
        "id": "kOPXE6ZwjcdM",
        "outputId": "4bc1ecd2-cba7-4521-f27a-9d999dee7862"
      },
      "execution_count": null,
      "outputs": [
        {
          "output_type": "stream",
          "name": "stdout",
          "text": [
            "Code by Deependra Parmar\n",
            "Function Docstring: This function greets the person with the given name.\n"
          ]
        }
      ]
    },
    {
      "cell_type": "code",
      "source": [
        "print(\"Code by Deependra Parmar\")\n",
        "\n",
        "global_variable = \"I am a global variable\"\n",
        "\n",
        "def demo_scope():\n",
        "    local_variable = \"I am a local variable\"\n",
        "    print(\"Inside function - Local Variable:\", local_variable)\n",
        "    print(\"Inside function - Global Variable:\", global_variable)\n",
        "\n",
        "demo_scope()\n",
        "print(\"Outside function - Global Variable:\", global_variable)"
      ],
      "metadata": {
        "colab": {
          "base_uri": "https://localhost:8080/"
        },
        "id": "onNfAb3zjfZk",
        "outputId": "a9247621-5e79-4106-8907-ad5a257ebe34"
      },
      "execution_count": null,
      "outputs": [
        {
          "output_type": "stream",
          "name": "stdout",
          "text": [
            "Code by Deependra Parmar\n",
            "Inside function - Local Variable: I am a local variable\n",
            "Inside function - Global Variable: I am a global variable\n",
            "Outside function - Global Variable: I am a global variable\n"
          ]
        }
      ]
    },
    {
      "cell_type": "code",
      "source": [
        "print(\"Code by Deependra Parmar\")\n",
        "\n",
        "def factorial(n):\n",
        "    if n == 0:\n",
        "        return 1\n",
        "    else:\n",
        "        return n * factorial(n-1)\n",
        "\n",
        "result = factorial(5)\n",
        "print(\"Factorial of 5:\", result)"
      ],
      "metadata": {
        "colab": {
          "base_uri": "https://localhost:8080/"
        },
        "id": "BgHVscj7jlgs",
        "outputId": "51ece13d-bca5-415f-89c6-4b99a58e3b05"
      },
      "execution_count": null,
      "outputs": [
        {
          "output_type": "stream",
          "name": "stdout",
          "text": [
            "Code by Deependra Parmar\n",
            "Factorial of 5: 120\n"
          ]
        }
      ]
    },
    {
      "cell_type": "code",
      "source": [
        "print(\"Code by Deependra Parmar\")\n",
        "\n",
        "def check_range(num, start, end):\n",
        "    return start <= num <= end\n",
        "\n",
        "result = check_range(10, 5, 15)\n",
        "print(\"Is 10 within the range [5, 15]?\", result)"
      ],
      "metadata": {
        "colab": {
          "base_uri": "https://localhost:8080/"
        },
        "id": "Se1zSZG7jqpM",
        "outputId": "8840f805-6d1e-4c9c-fca4-6527f0f29c71"
      },
      "execution_count": null,
      "outputs": [
        {
          "output_type": "stream",
          "name": "stdout",
          "text": [
            "Code by Deependra Parmar\n",
            "Is 10 within the range [5, 15]? True\n"
          ]
        }
      ]
    },
    {
      "cell_type": "code",
      "source": [
        "print(\"Code by Deependra Parmar\")\n",
        "\n",
        "def count_upper_lower_case(s):\n",
        "    upper_count = sum(1 for char in s if char.isupper())\n",
        "    lower_count = sum(1 for char in s if char.islower())\n",
        "    return upper_count, lower_count\n",
        "\n",
        "upper_count, lower_count = count_upper_lower_case(\"Hello World\")\n",
        "print(\"Number of uppercase letters:\", upper_count)\n",
        "print(\"Number of lowercase letters:\", lower_count)"
      ],
      "metadata": {
        "colab": {
          "base_uri": "https://localhost:8080/"
        },
        "id": "BclrqBnNjtzE",
        "outputId": "c4c25a5e-142b-41e9-ba6d-dc1e2778f28d"
      },
      "execution_count": null,
      "outputs": [
        {
          "output_type": "stream",
          "name": "stdout",
          "text": [
            "Code by Deependra Parmar\n",
            "Number of uppercase letters: 2\n",
            "Number of lowercase letters: 8\n"
          ]
        }
      ]
    },
    {
      "cell_type": "code",
      "source": [
        "print(\"Code by Deependra Parmar\")\n",
        "\n",
        "def get_unique_elements(input_list):\n",
        "    return list(set(input_list))\n",
        "\n",
        "# Example usage:\n",
        "input_list = [1, 2, 3, 3, 4, 5]\n",
        "result = get_unique_elements(input_list)\n",
        "print(\"Unique elements from the list:\", result)"
      ],
      "metadata": {
        "colab": {
          "base_uri": "https://localhost:8080/"
        },
        "id": "LT4TUbaNjw-0",
        "outputId": "9d0c6c54-965c-43b7-dd59-57b9e9729557"
      },
      "execution_count": null,
      "outputs": [
        {
          "output_type": "stream",
          "name": "stdout",
          "text": [
            "Code by Deependra Parmar\n",
            "Unique elements from the list: [1, 2, 3, 4, 5]\n"
          ]
        }
      ]
    },
    {
      "cell_type": "code",
      "source": [
        "print(\"Code by Deependra Parmar\")\n",
        "\n",
        "def is_prime(num):\n",
        "    if num <= 1:\n",
        "        return False\n",
        "    for i in range(2, int(num**0.5) + 1):\n",
        "        if num % i == 0:\n",
        "            return False\n",
        "    return True\n",
        "\n",
        "# Example usage:\n",
        "number_to_check = 17\n",
        "result = is_prime(number_to_check)\n",
        "print(f\"{number_to_check} is prime:\", result)\n"
      ],
      "metadata": {
        "colab": {
          "base_uri": "https://localhost:8080/"
        },
        "id": "kLO-0kUykMIc",
        "outputId": "09306e1a-b52a-4df8-8085-8baec8b0b025"
      },
      "execution_count": null,
      "outputs": [
        {
          "output_type": "stream",
          "name": "stdout",
          "text": [
            "Code by Deependra Parmar\n",
            "17 is prime: True\n"
          ]
        }
      ]
    },
    {
      "cell_type": "code",
      "source": [
        "print(\"Code by Deependra Parmar\")\n",
        "\n",
        "def outer_function():\n",
        "    def inner_function():\n",
        "        return \"Inside inner function\"\n",
        "    return inner_function()\n",
        "\n",
        "# Accessing inner function\n",
        "result = outer_function()\n",
        "print(result)\n"
      ],
      "metadata": {
        "colab": {
          "base_uri": "https://localhost:8080/"
        },
        "id": "fed-i5DakNXs",
        "outputId": "9b063e9e-6dbf-4c01-9f0b-a0e0b13b1189"
      },
      "execution_count": null,
      "outputs": [
        {
          "output_type": "stream",
          "name": "stdout",
          "text": [
            "Code by Deependra Parmar\n",
            "Inside inner function\n"
          ]
        }
      ]
    },
    {
      "cell_type": "code",
      "source": [
        "print(\"Code by Deependra Parmar\")\n",
        "\n",
        "def is_palindrome(s):\n",
        "    return s == s[::-1]\n",
        "\n",
        "# Example usage:\n",
        "input_string = \"radar\"\n",
        "result = is_palindrome(input_string)\n",
        "print(f\"'{input_string}' is palindrome:\", result)"
      ],
      "metadata": {
        "colab": {
          "base_uri": "https://localhost:8080/"
        },
        "id": "Nt_B3ll-kPJd",
        "outputId": "a7f7eaa9-f5af-4170-fafd-5d98306256ef"
      },
      "execution_count": null,
      "outputs": [
        {
          "output_type": "stream",
          "name": "stdout",
          "text": [
            "Code by Deependra Parmar\n",
            "'radar' is palindrome: True\n"
          ]
        }
      ]
    },
    {
      "cell_type": "code",
      "source": [
        "print(\"Code by Deependra Parmar\")\n",
        "\n",
        "def generate_square_list():\n",
        "    return [x*x for x in range(1, 31)]\n",
        "\n",
        "# Example usage:\n",
        "result_list = generate_square_list()\n",
        "print(\"List of squares of numbers from 1 to 30:\")\n",
        "print(result_list)\n"
      ],
      "metadata": {
        "colab": {
          "base_uri": "https://localhost:8080/"
        },
        "id": "R_4YtrxMkRJV",
        "outputId": "8b932c79-27a3-4974-dff9-d7523c8a4b4e"
      },
      "execution_count": null,
      "outputs": [
        {
          "output_type": "stream",
          "name": "stdout",
          "text": [
            "Code by Deependra Parmar\n",
            "List of squares of numbers from 1 to 30:\n",
            "[1, 4, 9, 16, 25, 36, 49, 64, 81, 100, 121, 144, 169, 196, 225, 256, 289, 324, 361, 400, 441, 484, 529, 576, 625, 676, 729, 784, 841, 900]\n"
          ]
        }
      ]
    },
    {
      "cell_type": "code",
      "source": [
        "print(\"Code by Deependra Parmar\")\n",
        "\n",
        "def print_even_numbers(input_list):\n",
        "    even_numbers = [num for num in input_list if num % 2 == 0]\n",
        "    print(\"Even numbers from the list:\")\n",
        "    for num in even_numbers:\n",
        "        print(num, end=\" \")\n",
        "\n",
        "# Example usage:\n",
        "input_list = [1, 2, 3, 4, 5, 6, 7, 8, 9, 10]\n",
        "print_even_numbers(input_list)\n"
      ],
      "metadata": {
        "colab": {
          "base_uri": "https://localhost:8080/"
        },
        "id": "90JsTCuwkSpl",
        "outputId": "f0fd85bf-54fb-477b-d158-2a251be319b6"
      },
      "execution_count": null,
      "outputs": [
        {
          "output_type": "stream",
          "name": "stdout",
          "text": [
            "Code by Deependra Parmar\n",
            "Even numbers from the list:\n",
            "2 4 6 8 10 "
          ]
        }
      ]
    },
    {
      "cell_type": "code",
      "source": [
        "print(\"Code by Deependra Parmar\")\n",
        "\n",
        "class Student:\n",
        "    def __init__(self, name, roll_no, semester):\n",
        "        self.name = name\n",
        "        self.roll_no = roll_no\n",
        "        self.semester = semester\n",
        "\n",
        "    def display_info(self):\n",
        "        print(\"Student Name:\", self.name)\n",
        "        print(\"Roll No.:\", self.roll_no)\n",
        "        print(\"Semester:\", self.semester)\n",
        "\n",
        "# Creating an object and displaying student information\n",
        "student1 = Student(\"Deependra\", 56, 6)\n",
        "student1.display_info()"
      ],
      "metadata": {
        "colab": {
          "base_uri": "https://localhost:8080/"
        },
        "id": "aiTVpax3kUIM",
        "outputId": "a18baeda-fa2f-4e65-a22b-ce037a549d68"
      },
      "execution_count": null,
      "outputs": [
        {
          "output_type": "stream",
          "name": "stdout",
          "text": [
            "Code by Deependra Parmar\n",
            "Student Name: Deependra\n",
            "Roll No.: 56\n",
            "Semester: 6\n"
          ]
        }
      ]
    },
    {
      "cell_type": "code",
      "source": [
        "print(\"Code by Deependra Parmar\")\n",
        "\n",
        "class Car:\n",
        "    def __init__(self, make, model, year):\n",
        "        self.make = make\n",
        "        self.model = model\n",
        "        self.year = year\n",
        "\n",
        "    def display_info(self):\n",
        "        print(f\"Car: {self.year} {self.make} {self.model}\")\n",
        "\n",
        "# Creating an object and displaying car information\n",
        "my_car = Car(\"Toyota\", \"Camry\", 2022)\n",
        "my_car.display_info()"
      ],
      "metadata": {
        "colab": {
          "base_uri": "https://localhost:8080/"
        },
        "id": "7Smzp96HkdA9",
        "outputId": "2ebec19e-f4fa-4e7a-a30c-a5561247aeb2"
      },
      "execution_count": null,
      "outputs": [
        {
          "output_type": "stream",
          "name": "stdout",
          "text": [
            "Code by Deependra Parmar\n",
            "Car: 2022 Toyota Camry\n"
          ]
        }
      ]
    },
    {
      "cell_type": "code",
      "source": [
        "print(\"Code by Deependra Parmar\")\n",
        "\n",
        "# (a) Single Level Inheritance\n",
        "class Animal:\n",
        "    def __init__(self, species):\n",
        "        self.species = species\n",
        "\n",
        "class Dog(Animal):\n",
        "    def __init__(self, name, species):\n",
        "        super().__init__(species)\n",
        "        self.name = name\n",
        "\n",
        "# (b) Multiple Inheritance\n",
        "class A:\n",
        "    def methodA(self):\n",
        "        print(\"Method A\")\n",
        "\n",
        "class B:\n",
        "    def methodB(self):\n",
        "        print(\"Method B\")\n",
        "\n",
        "class C(A, B):\n",
        "    def methodC(self):\n",
        "        print(\"Method C\")\n",
        "\n",
        "# (c) Multilevel Inheritance\n",
        "class X:\n",
        "    def methodX(self):\n",
        "        print(\"Method X\")\n",
        "\n",
        "class Y(X):\n",
        "    def methodY(self):\n",
        "        print(\"Method Y\")\n",
        "\n",
        "class Z(Y):\n",
        "    def methodZ(self):\n",
        "        print(\"Method Z\")\n",
        "\n",
        "# (d) Hybrid Inheritance (combination of multiple types)\n",
        "# Example is a bit complex, involves multiple base classes\n",
        "\n",
        "# (e) Hierarchical Inheritance\n",
        "class Parent:\n",
        "    def parent_method(self):\n",
        "        print(\"Parent Method\")\n",
        "\n",
        "class Child1(Parent):\n",
        "    def child1_method(self):\n",
        "        print(\"Child1 Method\")\n",
        "\n",
        "class Child2(Parent):\n",
        "    def child2_method(self):\n",
        "        print(\"Child2 Method\")\n"
      ],
      "metadata": {
        "colab": {
          "base_uri": "https://localhost:8080/"
        },
        "id": "2fif1h4YkntU",
        "outputId": "1d31f065-0f56-431a-af61-c55c54fda96e"
      },
      "execution_count": null,
      "outputs": [
        {
          "output_type": "stream",
          "name": "stdout",
          "text": [
            "Code by Deependra Parmar\n"
          ]
        }
      ]
    },
    {
      "cell_type": "code",
      "source": [
        "print(\"Code by Deependra Parmar\")\n",
        "\n",
        "class Animal:\n",
        "    def speak(self):\n",
        "        print(\"Animal speaks\")\n",
        "\n",
        "class Dog(Animal):\n",
        "    def speak(self):\n",
        "        print(\"Dog barks\")\n",
        "\n",
        "# Example usage demonstrating method overriding\n",
        "my_dog = Dog()\n",
        "my_dog.speak()  # This will invoke the overridden method in Dog class"
      ],
      "metadata": {
        "colab": {
          "base_uri": "https://localhost:8080/"
        },
        "id": "pmBuuJWMkrQ0",
        "outputId": "eab59157-f833-4cf6-d995-46b7ae2aefa5"
      },
      "execution_count": null,
      "outputs": [
        {
          "output_type": "stream",
          "name": "stdout",
          "text": [
            "Code by Deependra Parmar\n",
            "Dog barks\n"
          ]
        }
      ]
    },
    {
      "cell_type": "code",
      "source": [],
      "metadata": {
        "id": "o11xJ1rHkxKc"
      },
      "execution_count": null,
      "outputs": []
    }
  ]
}